{
 "cells": [
  {
   "cell_type": "code",
   "execution_count": null,
   "metadata": {},
   "outputs": [],
   "source": [
    "# Python Basic: Exercise-31 with Solution\n",
    "\n",
    "# Define a function to calculate the greatest common divisor (GCD) of two numbers.\n",
    "def gcd(x, y):\n",
    "    # Initialize gcd to 1.\n",
    "    gcd = 1\n",
    "    \n",
    "    # Check if y is a divisor of x (x is divisible by y).\n",
    "    if x % y == 0:\n",
    "        return y\n",
    "    \n",
    "    # Iterate from half of y down to 1.\n",
    "    for k in range(int(y / 2), 0, -1):\n",
    "        # Check if both x and y are divisible by k.\n",
    "        if x % k == 0 and y % k == 0:\n",
    "            # Update the GCD to the current value of k and exit the loop.\n",
    "            gcd = k\n",
    "            break\n",
    "    \n",
    "    # Return the calculated GCD.\n",
    "    return gcd\n",
    "\n",
    "# Print the GCD of specific pairs of numbers.\n",
    "print(\"GCD of 12 & 17 =\", gcd(12, 17))\n",
    "print(\"GCD of 4 & 6 =\", gcd(4, 6))\n",
    "print(\"GCD of 336 & 360 =\", gcd(336, 360))\n"
   ]
  },
  {
   "cell_type": "markdown",
   "metadata": {},
   "source": [
    "# Here is a simple implementation of the Euclidean algorithm for finding the greatest common divisor (GCD) of two integers.\n",
    "\n",
    "The function starts by initializing variable gcd to 1. It then check if x is divisable by y. If true then it ll return y as gchd, otherwise it enters a for loop. During each iteration, it checks whether k (current looping value) is common divisor of both x and y. If it is, it assign k to variable gcd and break out of for loop. Finally, the function returns gcd value of x and y"
   ]
  },
  {
   "cell_type": "code",
   "execution_count": 1,
   "metadata": {},
   "outputs": [
    {
     "name": "stdout",
     "output_type": "stream",
     "text": [
      "GCD of 12 & 17 = 1\n",
      "GCD of 4 & 6 = 2\n",
      "GCD of 336 & 360 = 24\n"
     ]
    }
   ],
   "source": [
    "# Solution 2\n",
    "\n",
    "# Define a function to calculate the greatest common divisor (GCD) of two numbers.\n",
    "def gcd(x, y):\n",
    "    # Initialize z as the remainder of x divided by y.\n",
    "    z = x % y\n",
    "    \n",
    "    # Use a while loop to find the GCD.\n",
    "    while z:\n",
    "        # Update x to y, y to z, and calculate a new value for z (remainder of x divided by y).\n",
    "        x = y\n",
    "        y = z\n",
    "        z = x % y\n",
    "    \n",
    "    # When z becomes 0, y contains the GCD, so return y.\n",
    "    return y\n",
    "\n",
    "# Print the GCD of specific pairs of numbers.\n",
    "print(\"GCD of 12 & 17 =\", gcd(12, 17))\n",
    "print(\"GCD of 4 & 6 =\", gcd(4, 6))\n",
    "print(\"GCD of 336 & 360 =\", gcd(336, 360))\n"
   ]
  },
  {
   "cell_type": "markdown",
   "metadata": {},
   "source": [
    "explain: "
   ]
  },
  {
   "cell_type": "code",
   "execution_count": 2,
   "metadata": {},
   "outputs": [
    {
     "name": "stdout",
     "output_type": "stream",
     "text": [
      "GCD of 336,360\n",
      "24\n",
      "GCD of 12,17\n",
      "1\n",
      "GCD of 4,6\n",
      "2\n",
      "GCD of 24,30,36\n",
      "6\n"
     ]
    }
   ],
   "source": [
    "# Solution 3\n",
    "\n",
    "# Import the 'reduce' function from the 'functools' module\n",
    "# and rename the 'gcd' function from the 'math' module as '_gcd'.\n",
    "from functools import reduce\n",
    "from math import gcd as _gcd\n",
    "\n",
    "# Define a function 'gcd' that calculates the greatest common divisor (GCD) of a list of numbers.\n",
    "def gcd(nums):\n",
    "    # Use the 'reduce' function to apply the '_gcd' function cumulatively to the elements in 'nums'.\n",
    "    # This effectively finds the GCD of all the numbers in the list.\n",
    "    return reduce(_gcd, nums)\n",
    "\n",
    "# Define a list 'nums' with pairs of numbers.\n",
    "nums = [336, 360]\n",
    "print(\"GCD of\", ','.join(str(e) for e in nums))  # Print a message indicating the GCD calculation.\n",
    "print(gcd(nums))  # Calculate and print the GCD of the numbers in the 'nums' list.\n",
    "\n",
    "nums = [12, 17]\n",
    "print(\"GCD of\", ','.join(str(e) for e in nums))\n",
    "print(gcd(nums))\n",
    "\n",
    "nums = [4, 6]\n",
    "print(\"GCD of\", ','.join(str(e) for e in nums))\n",
    "print(gcd(nums))\n",
    "\n",
    "nums = [24, 30, 36]\n",
    "print(\"GCD of\", ','.join(str(e) for e in nums))\n",
    "print(gcd(nums))\n"
   ]
  },
  {
   "cell_type": "markdown",
   "metadata": {},
   "source": [
    "explain: "
   ]
  },
  {
   "cell_type": "code",
   "execution_count": null,
   "metadata": {},
   "outputs": [],
   "source": []
  }
 ],
 "metadata": {
  "kernelspec": {
   "display_name": "Python 3",
   "language": "python",
   "name": "python3"
  },
  "language_info": {
   "codemirror_mode": {
    "name": "ipython",
    "version": 3
   },
   "file_extension": ".py",
   "mimetype": "text/x-python",
   "name": "python",
   "nbconvert_exporter": "python",
   "pygments_lexer": "ipython3",
   "version": "3.11.5"
  }
 },
 "nbformat": 4,
 "nbformat_minor": 2
}
