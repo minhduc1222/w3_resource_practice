{
 "cells": [
  {
   "cell_type": "code",
   "execution_count": null,
   "metadata": {},
   "outputs": [],
   "source": [
    "# Python Basic: Exercise-21 with Solution\n",
    "\n",
    "# Prompt the user to enter a number and convert the input to an integer\n",
    "num = int(input(\"Enter a number: \"))\n",
    "\n",
    "# Calculate the remainder when the number is divided by 2\n",
    "mod = num % 2\n",
    "\n",
    "# Check if the remainder is greater than 0, indicating an odd number\n",
    "if mod > 0:\n",
    "    # Print a message indicating that the number is odd\n",
    "    print(\"This is an odd number.\")\n",
    "else:\n",
    "    # Print a message indicating that the number is even\n",
    "    print(\"This is an even number.\")\n"
   ]
  },
  {
   "cell_type": "markdown",
   "metadata": {},
   "source": [
    "The said code prompt the user to input a number, convert the input to an integer and assign to variable num, then calculate the remainder and assign it it to variable mod( stand for modulus) after dividing the number by two. Using if else statement to check whether the mod value's greater than 0, if yes then print 'this is an odd number' otherwise print 'this is an even number'"
   ]
  },
  {
   "cell_type": "code",
   "execution_count": null,
   "metadata": {},
   "outputs": [],
   "source": [
    "# Python Basic: Exercise-22 with Solution\n",
    "\n",
    "# Define a function called list_count_4 that takes a list of numbers (nums) as a parameter.\n",
    "def list_count_4(nums):\n",
    "  # Initialize a variable count to keep track of the count of occurrences of the number 4.\n",
    "  count = 0\n",
    "\n",
    "  # Iterate through each element (num) in the input list (nums).\n",
    "  for num in nums:\n",
    "    # Check if the current element (num) is equal to 4.\n",
    "    if num == 4:\n",
    "      # If the element is 4, increment the count by 1.\n",
    "      count = count + 1\n",
    "\n",
    "  # Return the final count after iterating through the list.\n",
    "  return count\n",
    "\n",
    "# Call the list_count_4 function with two different input lists and print the results.\n",
    "print(list_count_4([1, 4, 6, 7, 4]))  # Output: 2 (There are two occurrences of 4 in the list.)\n",
    "print(list_count_4([1, 4, 6, 4, 7, 4]))  # Output: 3 (There are three occurrences of 4 in the list.)\n"
   ]
  },
  {
   "cell_type": "markdown",
   "metadata": {},
   "source": [
    "the said code defines a function that takes a number as its argument, then it initializes variable count to 0.\n",
    "Next, it passes through(ok) / iterate over (common) each element in the nums list, checking if there's a variable equal to 4, if true, then add 1 to variable count. After the iteration, the function return value of variable count of how many times the 4 number appears in the list"
   ]
  },
  {
   "cell_type": "code",
   "execution_count": null,
   "metadata": {},
   "outputs": [],
   "source": [
    "# Python Basic: Exercise-23 with Solution\n",
    "\n",
    "# Define a function called substring_copy that takes two parameters: text (a string) and n (an integer).\n",
    "def substring_copy(text, n):\n",
    "  # Set the initial value of flen (substring length) to 2.\n",
    "  flen = 2\n",
    "\n",
    "  # Check if flen is greater than the length of the input text.\n",
    "  if flen > len(text):\n",
    "    # If flen is greater, set it to the length of the text to avoid going out of bounds.\n",
    "    flen = len(text)\n",
    "\n",
    "  # Extract a substring of length flen from the beginning of the text.\n",
    "  substr = text[:flen]\n",
    "\n",
    "  # Initialize an empty string result to store the concatenated substrings.\n",
    "  result = \"\"\n",
    "\n",
    "  # Iterate n times to concatenate the substring to the result.\n",
    "  for i in range(n):\n",
    "    result = result + substr\n",
    "\n",
    "  # Return the final result after concatenating substrings.\n",
    "  return result\n",
    "\n",
    "# Call the substring_copy function with two different inputs and print the results.\n",
    "print(substring_copy('abcdef', 2))  # Output: \"abab\" (substring \"ab\" repeated 2 times)\n",
    "print(substring_copy('p', 3))  # Output: \"ppp\" (substring \"p\" repeated 3 times)\n"
   ]
  },
  {
   "cell_type": "code",
   "execution_count": 3,
   "metadata": {},
   "outputs": [
    {
     "name": "stdout",
     "output_type": "stream",
     "text": [
      "abab\n",
      "ppp\n"
     ]
    }
   ],
   "source": [
    "def substring_copy(text, n):\n",
    "    return str(text[:2] * n)\n",
    "\n",
    "print(substring_copy('abcdef', 2))  # Output: \"abab\" (substring \"ab\" repeated 2 times)\n",
    "print(substring_copy('p', 3))  # Output: \"ppp\" (substring \"p\" repeated 3 times)"
   ]
  },
  {
   "cell_type": "markdown",
   "metadata": {},
   "source": [
    "the code defines a function called substring_copy that takes a text string, a number as argument, then it initializes variable flen to 2.\n",
    "Next, it use if else to check whether flen values > length of text string, if text length is greater, then set flen value to the text length to avoid going out of bound. After that, extract a substring of length flen (good) / (extract a number of length flen of first text string characters (ok)). \n",
    "Initialize an empty string result and using for loop to iterate n times. During each iteration it concatenates the \"substr\" to the result. Finally, return the final value of result variable"
   ]
  },
  {
   "cell_type": "code",
   "execution_count": 1,
   "metadata": {},
   "outputs": [
    {
     "name": "stdout",
     "output_type": "stream",
     "text": [
      "False\n",
      "True\n"
     ]
    }
   ],
   "source": [
    "# Python Basic: Exercise-24 with Solution\n",
    "\n",
    "# Define a function called is_vowel that takes one parameter: char (a character).\n",
    "def is_vowel(char):\n",
    "    # Define a string called all_vowels containing all lowercase vowel characters.\n",
    "    all_vowels = 'aeiou'\n",
    "\n",
    "    # Check if the input character (char) is present in the all_vowels string.\n",
    "    return char in all_vowels\n",
    "\n",
    "# Call the is_vowel function with two different characters and print the results.\n",
    "print(is_vowel('c'))  # Output: False (character 'c' is not a vowel)\n",
    "print(is_vowel('e'))  # Output: True (character 'e' is a vowel)\n"
   ]
  },
  {
   "cell_type": "markdown",
   "metadata": {},
   "source": [
    "Initialize a function named is_vowel that takes char as parameter name. Then it declare variable all_vowels containing all lowercase vowels. The function then uses in operator to help return only values of char variable presenting in all_vowels varabile string value."
   ]
  },
  {
   "cell_type": "code",
   "execution_count": null,
   "metadata": {},
   "outputs": [],
   "source": [
    "# Python Basic: Exercise-25 with Solution\n",
    "\n",
    "# Define a function called is_group_member that takes two parameters: group_data (a list) and n (an integer).\n",
    "def is_group_member(group_data, n):\n",
    "    # Iterate through the elements (values) in the group_data list.\n",
    "    for value in group_data:\n",
    "        # Check if the current value is equal to the given integer, n.\n",
    "        if n == value:\n",
    "            return True  # If found, return True.\n",
    "    return False  # If the loop completes and no match is found, return False.\n",
    "\n",
    "# Call the is_group_member function with two different lists and integers, and print the results.\n",
    "print(is_group_member([1, 5, 8, 3], 3))  # Output: True (3 is in the list)\n",
    "print(is_group_member([5, 8, 3], -1))    # Output: False (-1 is not in the list)\n"
   ]
  },
  {
   "cell_type": "markdown",
   "metadata": {},
   "source": [
    "Define a function called is_group_member that takes group_data a list and n integer. The function declares for loop to iterate through each element in group_data list. During each iteration, it check whether the current looping value matches n value, if true then the function returns True indicating the n value is present in group data. If the loop fails to find matchs, the function return fail which means n does not exist in group_data."
   ]
  },
  {
   "cell_type": "code",
   "execution_count": null,
   "metadata": {},
   "outputs": [],
   "source": [
    "# Solution 2\n",
    "\n",
    "# Define a function called is_group_member that takes two parameters: group_data (a list) and n (an integer).\n",
    "def is_group_member(group_data, n):\n",
    "    return n in group_data  # Check if n is in the group_data list and return the result.\n",
    "\n",
    "# Call the is_group_member function with two different lists and integers and print the results.\n",
    "print(is_group_member([1, 5, 8, 3], 3))  # Output: True (3 is in the list)\n",
    "print(is_group_member([5, 8, 3], -1))    # Output: False (-1 is not in the list)\n"
   ]
  },
  {
   "cell_type": "markdown",
   "metadata": {},
   "source": [
    "Define a function called is_group_member that takes group_data a list and n integer. Within the function it uses in operator to check whether n is present within group data list. If it is present, then the function return True, otherwise false."
   ]
  },
  {
   "cell_type": "code",
   "execution_count": null,
   "metadata": {},
   "outputs": [],
   "source": [
    "# Python Basic: Exercise-26 with Solution\n",
    "\n",
    "# Define a function called histogram that takes a list of items as a parameter.\n",
    "def histogram(items):\n",
    "    # Iterate through the items in the list.\n",
    "    for n in items:\n",
    "        output = ''  # Initialize an empty string called output.\n",
    "        times = n     # Set the times variable to the value of n.\n",
    "        \n",
    "        # Use a while loop to append '*' to the output string 'times' number of times.\n",
    "        while times > 0:\n",
    "            output += '*'\n",
    "            times = times - 1  # Decrement the times variable.\n",
    "        \n",
    "        # Print the resulting output string.\n",
    "        print(output)\n",
    "\n",
    "# Call the histogram function with a list of numbers and print the histogram.\n",
    "histogram([2, 3, 6, 5])\n"
   ]
  },
  {
   "cell_type": "markdown",
   "metadata": {},
   "source": [
    "The function histogram takes items a list of integer. It creates a for loop that iterate through each elements in items list. During each iteration, the for loop initializes variable output and assign the current n value of the loop to variable times.\n",
    "The while loop's used then that concatenates '*' values to the output variable as long as times value's greater than zero. Times value decreases by 1 after each iteration. After the while loop completes, it prints the final value of output variable"
   ]
  },
  {
   "cell_type": "code",
   "execution_count": null,
   "metadata": {},
   "outputs": [],
   "source": [
    "# Python Basic: Exercise-27 with Solution\n",
    "\n",
    "# Define a function called concatenate_list_data that takes a list as a parameter.\n",
    "def concatenate_list_data(lst):\n",
    "    result = ''  # Initialize an empty string called result.\n",
    "    \n",
    "    # Iterate through the elements in the list.\n",
    "    for element in lst:\n",
    "        result += str(element)  # Convert each element to a string and concatenate it to the result.\n",
    "\n",
    "    return result  # Return the concatenated string.\n",
    "\n",
    "# Call the concatenate_list_data function with a list of numbers and print the result.\n",
    "print(concatenate_list_data([1, 5, 12, 2]))\n"
   ]
  },
  {
   "cell_type": "markdown",
   "metadata": {},
   "source": [
    "The function concatenate_list_data takes lst a list. It creates result variable and a for loop that iterates over each element in lst list. During each iteration, the current element value's converted to string and be concatenated to result variable.\n",
    "Upon completion of the for loop, the final value of result is returned"
   ]
  },
  {
   "cell_type": "code",
   "execution_count": null,
   "metadata": {},
   "outputs": [],
   "source": [
    "# Python Basic: Exercise-28 with Solution\n",
    "\n",
    "# Define a list of numbers.\n",
    "numbers = [    \n",
    "    386, 462, 47, 418, 907, 344, 236, 375, 823, 566, 597, 978, 328, 615, 953, 345, \n",
    "    399, 162, 758, 219, 918, 237, 412, 566, 826, 248, 866, 950, 626, 949, 687, 217, \n",
    "    815, 67, 104, 58, 512, 24, 892, 894, 767, 553, 81, 379, 843, 831, 445, 742, 717, \n",
    "    958,743, 527\n",
    "]\n",
    "\n",
    "# Iterate through the numbers in the list.\n",
    "for x in numbers:\n",
    "    if x == 237:\n",
    "        print(x)  # Print the number if it's 237.\n",
    "        break  # Exit the loop if 237 is found.\n",
    "    elif x % 2 == 0:\n",
    "        print(x)  # Print the number if it's even.\n"
   ]
  },
  {
   "cell_type": "markdown",
   "metadata": {},
   "source": [
    "The code defines variable numbers a list with a set of numbers. Using for loop, the function iterates over each element in the number list. Within each iteration, it checks whether current value x's equal to 237, if True then x will be printed out and the function exits the loop with break. Otherwise it check if x's even to print out if it's True."
   ]
  },
  {
   "cell_type": "code",
   "execution_count": null,
   "metadata": {},
   "outputs": [],
   "source": [
    "# Python Basic: Exercise-29 with Solution\n",
    "\n",
    "# Create two sets, color_list_1 and color_list_2.\n",
    "color_list_1 = set([\"White\", \"Black\", \"Red\"])\n",
    "color_list_2 = set([\"Red\", \"Green\"])\n",
    "\n",
    "# Print the original elements of the sets.\n",
    "print(\"Original set elements:\")\n",
    "print(color_list_1)\n",
    "print(color_list_2)\n",
    "\n",
    "# Calculate and print the difference of color_list_1 and color_list_2.\n",
    "print(\"\\nDifference of color_list_1 and color_list_2:\")\n",
    "print(color_list_1.difference(color_list_2))\n",
    "\n",
    "# Calculate and print the difference of color_list_2 and color_list_1.\n",
    "print(\"\\nDifference of color_list_2 and color_list_1:\")\n",
    "print(color_list_2.difference(color_list_1))\n"
   ]
  },
  {
   "cell_type": "markdown",
   "metadata": {},
   "source": [
    "The said code defines 2 variable color_list_1 and color_list_2 containing string element. The elements of both sets are then printed out. \n",
    "The function uses difference method on color_list_1 that passes color_list_2 as an argument to it. The method prints elements that's belong to color_list_1 but not be present in color_list_2. The opposite happens with difference method's used on color_list_2 that passes color_list_1 as its argument to it."
   ]
  },
  {
   "cell_type": "code",
   "execution_count": null,
   "metadata": {},
   "outputs": [],
   "source": [
    "# Solution 2\n",
    "\n",
    "# Create two sets, color_list_1 and color_list_2.\n",
    "color_list_1 = set([\"White\", \"Black\", \"Red\"])\n",
    "color_list_2 = set([\"Red\", \"Green\"])\n",
    "\n",
    "# Print the original elements of the sets.\n",
    "print(\"Original set elements:\")\n",
    "print(color_list_1)\n",
    "print(color_list_2)\n",
    "\n",
    "# Calculate and print the difference of color_list_1 and color_list_2 using set difference (-) operator.\n",
    "print(\"\\nDifference of color_list_1 and color_list_2:\")\n",
    "print(color_list_1 - color_list_2)\n",
    "\n",
    "# Calculate and print the difference of color_list_2 and color_list_1 using set difference (-) operator.\n",
    "print(\"\\nDifference of color_list_2 and color_list_1:\")\n",
    "print(color_list_2 - color_list_1)\n"
   ]
  },
  {
   "cell_type": "markdown",
   "metadata": {},
   "source": [
    "The said code defines two sets, \"color_list_1\" and \"color_list_2\" with the initial elements \"white\", \"black\", \"red\", \"red\", \"green\" respectively. The function prints its two original sets, followed by the difference between color_list_1 and color_list_2 (the elements that are in color_list_1 but not in color_list_2) and the difference between color_list_2 and color_list_1 (the elements that are in color_list_2 but not in color_list_1)."
   ]
  },
  {
   "cell_type": "code",
   "execution_count": null,
   "metadata": {},
   "outputs": [],
   "source": [
    "# Python Basic: Exercise-30 with Solution\n",
    "\n",
    "# Prompt the user to input the base and height of a triangle as integers.\n",
    "b = int(input(\"Input the base : \"))\n",
    "h = int(input(\"Input the height : \"))\n",
    "\n",
    "# Calculate the area of the triangle using the formula: (base * height) / 2.\n",
    "area = b * h / 2\n",
    "\n",
    "# Print the calculated area of the triangle.\n",
    "print(\"area = \", area)\n"
   ]
  },
  {
   "cell_type": "markdown",
   "metadata": {},
   "source": [
    "The said code prompts the user to input integer values for the base and height of a triangle. Storing these value in variable b and h respectively, it then calculates the area of the triangle by multiplying the base and height and dividing the result by 2 and assign the result to variable area. Finally, it prints the calculated area."
   ]
  }
 ],
 "metadata": {
  "kernelspec": {
   "display_name": "Python 3",
   "language": "python",
   "name": "python3"
  },
  "language_info": {
   "codemirror_mode": {
    "name": "ipython",
    "version": 3
   },
   "file_extension": ".py",
   "mimetype": "text/x-python",
   "name": "python",
   "nbconvert_exporter": "python",
   "pygments_lexer": "ipython3",
   "version": "3.11.5"
  }
 },
 "nbformat": 4,
 "nbformat_minor": 2
}
